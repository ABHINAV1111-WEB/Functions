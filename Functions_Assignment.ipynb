{
  "nbformat": 4,
  "nbformat_minor": 0,
  "metadata": {
    "colab": {
      "provenance": []
    },
    "kernelspec": {
      "name": "python3",
      "display_name": "Python 3"
    },
    "language_info": {
      "name": "python"
    }
  },
  "cells": [
    {
      "cell_type": "markdown",
      "source": [
        "**1.What is the difference between a function and a method in Python?**\n",
        "\n",
        "**Ans:**\n",
        "\n",
        "**Functions vs Methods in Python:**\n",
        "\n",
        "In Python, both functions and methods are blocks of code that can be executed multiple times from different parts of your program. However, there are key differences between them:\n",
        "\n",
        "**Functions:**\n",
        "\n",
        "A function is a standalone block of code that can be called directly.\n",
        "It is not associated with any class or object.\n",
        "Functions are defined using the def keyword.\n",
        "\n",
        "**Methods:**\n",
        "\n",
        "A method is a block of code that is associated with a class or object.\n",
        "It is used to perform actions on the object or class.\n",
        "Methods are also defined using the def keyword, but they are inside a class definition.\n",
        "\n",
        "**Example**"
      ],
      "metadata": {
        "id": "URrpoHC9dng8"
      }
    },
    {
      "cell_type": "code",
      "source": [
        "# Function\n",
        "def greet(name):\n",
        "    print(f\"Hello, {name}!\")\n",
        "# Calling the function\n",
        "greet(\"John\")\n",
        "\n",
        "# Method\n",
        "class Person:\n",
        "    def __init__(self, name):\n",
        "        self.name = name\n",
        "\n",
        "    def greet(self):\n",
        "        print(f\"Hello, my name is {self.name}!\")\n",
        "# Creating an object and calling the method\n",
        "person = Person(\"Jane\")\n",
        "person.greet()"
      ],
      "metadata": {
        "colab": {
          "base_uri": "https://localhost:8080/"
        },
        "id": "Wj35j-kyfphY",
        "outputId": "d8c0df0f-64b3-4ff7-8ec0-bd2c240fbdec"
      },
      "execution_count": null,
      "outputs": [
        {
          "output_type": "stream",
          "name": "stdout",
          "text": [
            "Hello, John!\n",
            "Hello, my name is Jane!\n"
          ]
        }
      ]
    },
    {
      "cell_type": "markdown",
      "source": [
        "**2. Explain the concept of function arguments and parameters in Python.**\n",
        "\n",
        "**Ans:**\n",
        "\n",
        "**Function Arguments and Parameters in Python:**\n",
        "\n",
        "In Python, when you define a function, you can specify parameters that the function will accept when it's called. These parameters are also known as formal arguments. When you call the function, you pass in arguments, which are also known as actual arguments.\n",
        "\n",
        "**Parameters (Formal Arguments):**\n",
        "\n",
        "Parameters are the variables defined in the function definition.\n",
        "They are used to receive the input values passed to the function.\n",
        "Parameters are specified in the function definition using the def keyword.\n",
        "\n",
        "**Arguments (Actual Arguments):**\n",
        "\n",
        "Arguments are the values passed to the function when it's called.\n",
        "They are assigned to the parameters defined in the function definition.\n",
        "Arguments can be passed in various ways, such as positionally, by keyword, or using default values.\n",
        "\n",
        "**Example:**\n",
        "\n"
      ],
      "metadata": {
        "id": "9WnVVa5LglyV"
      }
    },
    {
      "cell_type": "code",
      "source": [
        "# Function definition with parameters\n",
        "def greet(name, age):\n",
        "    print(f\"Hello, {name}! You are {age} years old.\")\n",
        "\n",
        "# Calling the function with arguments\n",
        "greet(\"John\", 30)  # Output: Hello, John! You are 30 years old.\n",
        "\n",
        "# Calling the function with keyword arguments\n",
        "greet(name=\"Jane\", age=25)  # Output: Hello, Jane! You are 25 years old."
      ],
      "metadata": {
        "colab": {
          "base_uri": "https://localhost:8080/"
        },
        "id": "jRnQ3U7oiPGS",
        "outputId": "21a281ec-03a4-42ed-ba30-d4d6c50cb017"
      },
      "execution_count": null,
      "outputs": [
        {
          "output_type": "stream",
          "name": "stdout",
          "text": [
            "Hello, John! You are 30 years old.\n",
            "Hello, Jane! You are 25 years old.\n"
          ]
        }
      ]
    },
    {
      "cell_type": "markdown",
      "source": [
        "**3. What are the different ways to define and call a function in Python?**\n",
        "\n",
        "**Ans:**\n",
        "\n",
        "Python offers several ways to define and call functions. Let's explore the different methods with examples:\n",
        "\n",
        "**a)Regular Function Definition:**\n",
        "\n",
        "You can define a function using the def keyword and call it by its name followed by parentheses. Example:\n",
        "\n",
        "# Defining a function\n",
        "def greet(name):\n",
        "    return f\"Hello, {name}!\"\n",
        "\n",
        "# Calling the function\n",
        "print(greet(\"Alice\"))  # Output: Hello, Alice!\n",
        "\n",
        "**b) Lambda Function:**\n",
        "\n",
        "A lambda function is a small anonymous function defined using the lambda keyword. It can have any number of arguments but only one expression.\n",
        "Example:\n",
        "\n",
        "# Defining a lambda function\n",
        "square = lambda x: x * x\n",
        "\n",
        "# Calling the lambda function\n",
        "print(square(5))  # Output: 25\n",
        "\n",
        "c) Nested Function:\n",
        "\n",
        "You can define a function inside another function.Example:\n",
        "\n",
        "def outer_function(x):\n",
        "    def inner_function(y):\n",
        "        return x + y\n",
        "    return inner_function\n",
        "\n",
        "# Calling the nested function\n",
        "add_five = outer_function(5)\n",
        "print(add_five(3))  # Output: 8\n",
        "\n",
        "d) Function with Default Arguments:\n",
        "\n",
        "You can define functions with default arguments. If no argument is provided during the call, the default value is used. Example:\n",
        "\n",
        "def greet(name=\"Guest\"):\n",
        "    return f\"Hello, {name}!\"\n",
        "\n",
        "# Calling the function with and without an argument\n",
        "print(greet(\"Alice\"))  # Output: Hello, Alice!\n",
        "print(greet())     \n",
        "\n",
        "e) Function with Variable-Length Arguments:\n",
        "\n",
        "You can define functions that accept any number of arguments using *args for non-keyword arguments and **kwargs for keyword arguments.Example:\n",
        "\n",
        "def concatenate(*args, **kwargs):\n",
        "    result = \" \".join(args)\n",
        "    if 'end' in kwargs:\n",
        "        result += kwargs['end']\n",
        "    return result\n",
        "\n",
        "# Calling the function with variable-length arguments\n",
        "print(concatenate(\"Hello\", \"World\", end=\"!\"))  \n",
        "\n",
        "f) Recursion:\n",
        "\n",
        "A function can call itself, which is known as recursion.Example:\n",
        "\n",
        "def factorial(n):\n",
        "    if n == 1:\n",
        "        return 1\n",
        "    else:\n",
        "        return n * factorial(n - 1)\n",
        "\n",
        "# Calling the recursive function\n",
        "print(factorial(5))  # Output: 120"
      ],
      "metadata": {
        "id": "HjGsOHPkikqA"
      }
    },
    {
      "cell_type": "markdown",
      "source": [
        "**4. What is the purpose of the `return` statement in a Python function?**\n",
        "\n",
        "**Ans:**\n",
        "\n",
        "The return statement in a Python function serves several crucial purposes:\n",
        "\n",
        "**Terminate a Function:**\n",
        "\n",
        " The return statement immediately terminates the execution of a function. Any code after the return statement will not be executed.\n",
        "\n",
        "**Return a Value: **\n",
        "\n",
        "It specifies the value that the function should output when it is called. This value can then be used in the program wherever the function is called.\n",
        "\n",
        "**Transfer Control: **\n",
        "\n",
        "It transfers control back to the point where the function was called, along with any value specified after the return keyword.\n",
        "Example:\n",
        "\n",
        "Simple Return:\n",
        "\n",
        "Returning a single value.\n",
        "\n",
        "python\n",
        "def greet(name):\n",
        "    return f\"Hello, {name}!\"\n",
        "\n",
        "Multiple Returns:\n",
        "\n",
        " Returning multiple values as a tuple.\n",
        "\n",
        "python\n",
        "def get_coordinates():\n",
        "    return (10, 20)\n",
        "\n",
        "x, y = get_coordinates()\n",
        "\n",
        "Conditional Return:\n",
        "\n",
        "Returning values based on conditions.\n",
        "\n",
        "python\n",
        "def check_number(num):\n",
        "    if num > 0:\n",
        "        return \"Positive\"\n",
        "    elif num < 0:\n",
        "        return \"Negative\"\n",
        "    else:\n",
        "        return \"Zero\""
      ],
      "metadata": {
        "id": "DDgQW6F6mY_Y"
      }
    },
    {
      "cell_type": "markdown",
      "source": [],
      "metadata": {
        "id": "Uf-l0P2Rnj7J"
      }
    },
    {
      "cell_type": "markdown",
      "source": [
        "**5. What are iterators in Python and how do they differ from iterables?**\n",
        "\n",
        "**Ans:**\n",
        "\n",
        "Iterables: **bold text**\n",
        "\n",
        "An iterable is any Python object capable of returning its members one at a time. Examples include lists, tuples, strings, and dictionaries. Iterables have an __iter__() method that returns an iterator.\n",
        "\n",
        "**Iterators:**\n",
        "\n",
        "An iterator is an object representing a stream of data. It has two core methods:\n",
        "\n",
        "__iter__(): Returns the iterator object itself.\n",
        "\n",
        "__next__(): Returns the next value from the stream. If there are no more items, it raises a StopIteration exception.\n",
        "\n",
        "Differences: **bold text**\n",
        "\n",
        "Nature:\n",
        "\n",
        "Iterable: An object that can be iterated over.\n",
        "\n",
        "Iterator: An object that produces items from an iterable, one at a time.\n",
        "\n",
        "Methods:\n",
        "\n",
        "Iterable: Must have __iter__() method.\n",
        "\n",
        "Iterator: Must have both __iter__() and __next__() methods.\n",
        "\n",
        "Usage:\n",
        "\n",
        "Iterable: Suitable for use in loops and can create iterators.\n",
        "\n",
        "Iterator: Used to get values from an iterable, one value at a time.\n",
        "\n",
        "Example:\n",
        "\n",
        "\n"
      ],
      "metadata": {
        "id": "anp8_vBEoChj"
      }
    },
    {
      "cell_type": "code",
      "source": [
        "# Example of an iterable (a list)\n",
        "numbers = [1, 2, 3, 4, 5]\n",
        "\n",
        "# Getting an iterator from the iterable\n",
        "iterator = iter(numbers)\n",
        "\n",
        "print(\"Using an iterator:\")\n",
        "while True:\n",
        "    try:\n",
        "        # Get the next item\n",
        "        number = next(iterator)\n",
        "        print(number)\n",
        "    except StopIteration:\n",
        "        # If there are no more items, break the loop\n",
        "        break\n",
        "\n",
        "print(\"\\nUsing a for loop with an iterable:\")\n",
        "for number in numbers:\n",
        "    print(number)"
      ],
      "metadata": {
        "colab": {
          "base_uri": "https://localhost:8080/"
        },
        "id": "L9_wm8V5ppnc",
        "outputId": "abe87ed3-bacd-4de4-ea40-d427575fd893"
      },
      "execution_count": null,
      "outputs": [
        {
          "output_type": "stream",
          "name": "stdout",
          "text": [
            "Using an iterator:\n",
            "1\n",
            "2\n",
            "3\n",
            "4\n",
            "5\n",
            "\n",
            "Using a for loop with an iterable:\n",
            "1\n",
            "2\n",
            "3\n",
            "4\n",
            "5\n"
          ]
        }
      ]
    },
    {
      "cell_type": "markdown",
      "source": [
        "**6. Explain the concept of generators in Python and how they are defined.**\n",
        "\n",
        "**Ans:**\n",
        "\n",
        "\n",
        "Generators in Python: **bold text**\n",
        "\n",
        "Generators are a type of iterable in Python that can be used to generate a sequence of values instead of computing them all at once and storing them in memory. This makes them particularly useful for handling large datasets.\n",
        "\n",
        "**Defining a Generator:**\n",
        "\n",
        "A generator is defined using a function, but instead of using the return statement, you use the yield statement to produce a value. When a generator is called, it returns an iterator, which can be used to retrieve the values generated by the generator.\n",
        "\n",
        "**Defining the Generator:**\n",
        "\n",
        "The function countdown(n) uses yield to produce the values one at a time.\n",
        "\n",
        "Each time yield is called, the function's state is saved, and control is returned to the caller.\n",
        "\n",
        "When the generator is resumed, it continues execution immediately after the yield statement.\n",
        "\n",
        "Creating the Generator Object:\n",
        "\n",
        "Calling countdown(5) returns a generator object.\n",
        "\n",
        "Iterating over the Generator:\n",
        "\n",
        "You can iterate over the generator object using a for loop, which retrieves each value yielded by the generator until StopIteration is raised.\n",
        "\n",
        "Advantages of Generators:\n",
        "\n",
        "Memory Efficiency: Generators do not store all the values in memory; they generate each value on the fly.\n",
        "\n",
        "Lazy Evaluation:\n",
        " Values are produced only when requested, making them suitable for large datasets or infinite sequences.\n",
        "\n",
        "Readable Code: Generators can make your code more readable and clean, especially when dealing with complex iteration logic.\n",
        "\n",
        "Example:"
      ],
      "metadata": {
        "id": "Q0OPZVdeptPd"
      }
    },
    {
      "cell_type": "code",
      "source": [
        "def infinite_sequence():\n",
        "    num = 0\n",
        "    while True:\n",
        "        yield num\n",
        "        num += 1\n",
        "\n",
        "# Create a generator\n",
        "gen = infinite_sequence()\n",
        "\n",
        "# Print the first 10 values\n",
        "for _ in range(10):\n",
        "    print(next(gen))"
      ],
      "metadata": {
        "colab": {
          "base_uri": "https://localhost:8080/"
        },
        "id": "XQCZdpn1q2fE",
        "outputId": "f9d92c73-57a4-432d-b8a7-5e3fd15d3c0d"
      },
      "execution_count": null,
      "outputs": [
        {
          "output_type": "stream",
          "name": "stdout",
          "text": [
            "0\n",
            "1\n",
            "2\n",
            "3\n",
            "4\n",
            "5\n",
            "6\n",
            "7\n",
            "8\n",
            "9\n"
          ]
        }
      ]
    },
    {
      "cell_type": "markdown",
      "source": [
        "**7. What are the advantages of using generators over regular functions?**\n",
        "\n",
        "**Ans:**\n",
        "\n",
        "\n",
        "**Advantages of Generators over Regular Functions:**\n",
        "\n",
        "\n",
        "**1. Memory Efficiency:**\n",
        "\n",
        "Generators store only the current state of the iteration, making them more memory-efficient than regular functions, which store the entire sequence in memory.\n",
        "**2. Lazy Evaluation:**\n",
        "\n",
        "Generators only compute the next value when asked, which can be useful for expensive computations. Regular functions, on the other hand, compute all values upfront.\n",
        "3. Flexibility:\n",
        "\n",
        "Generators can be used to implement cooperative multitasking, where tasks yield control to other tasks at specific points. Regular functions do not support this level of control.\n",
        "4. Improved Performance:\n",
        "\n",
        "Generators can improve performance by avoiding the need to compute and store large amounts of data upfront. This can lead to significant speedups for large datasets.\n",
        "5. Simplified Code:\n",
        "\n",
        "Generators can simplify code by eliminating the need for explicit loops and indexing. This can make code more readable and maintainable.\n",
        "6. Infinite Sequences:\n",
        "\n",
        "Generators can be used to create infinite sequences, which can be useful for modeling real-world phenomena. Regular functions cannot create infinite sequences.\n",
        "7. Better Support for Pipelining:\n",
        "\n",
        "Generators can be easily composed together to create complex pipelines, making it easier to process large datasets in a modular and efficient way.\n",
        "Example"
      ],
      "metadata": {
        "id": "xiiAVOalrNPp"
      }
    },
    {
      "cell_type": "code",
      "source": [
        "# Generator function for prime numbers\n",
        "def prime_numbers():\n",
        "    num = 2\n",
        "    while True:\n",
        "        for i in range(2, num):\n",
        "            if num % i == 0:\n",
        "                break\n",
        "        else:\n",
        "            yield num\n",
        "        num += 1\n",
        "\n",
        "# Printing the first 10 prime numbers\n",
        "prime_gen = prime_numbers()\n",
        "for _ in range(5):\n",
        "    print(next(prime_gen))"
      ],
      "metadata": {
        "colab": {
          "base_uri": "https://localhost:8080/"
        },
        "id": "yvU0FgBkskLh",
        "outputId": "d6235960-22bb-4528-a505-fafc1fce5194"
      },
      "execution_count": null,
      "outputs": [
        {
          "output_type": "stream",
          "name": "stdout",
          "text": [
            "2\n",
            "3\n",
            "5\n",
            "7\n",
            "11\n"
          ]
        }
      ]
    },
    {
      "cell_type": "markdown",
      "source": [
        "**8. What is a lambda function in Python and when is it typically used?**\n",
        "\n",
        "**Ans:**\n",
        "\n",
        "A lambda function in Python is a small anonymous function that can have any number of arguments but only one expression. It is defined using the lambda keyword followed by a list of arguments, a colon, and an expression. The expression is evaluated and returned when the lambda function is called.\n",
        "\n",
        "Typical Uses of Lambda Functions:\n",
        "\n",
        "a)Inline Functions: When a simple function is needed for a short period, and defining a separate function would be overkill.\n",
        "\n",
        "b) Higher-Order Functions: Lambda functions are often used with higher-order functions like map(), filter(), and reduce().\n",
        "\n",
        "c)Function Arguments: Passing simple functions as arguments to other functions.\n",
        "\n",
        "Example:\n",
        "\n"
      ],
      "metadata": {
        "id": "rmQR5FRfss87"
      }
    },
    {
      "cell_type": "code",
      "source": [
        "numbers = [1, 2, 3, 4, 5]\n",
        "even_numbers = list(filter(lambda x: x % 2 == 0, numbers))\n",
        "print(even_numbers)  # Output: [2, 4]"
      ],
      "metadata": {
        "colab": {
          "base_uri": "https://localhost:8080/"
        },
        "id": "55etV69quhRL",
        "outputId": "ac5100e1-7f10-427e-aca1-84debfdb13bf"
      },
      "execution_count": null,
      "outputs": [
        {
          "output_type": "stream",
          "name": "stdout",
          "text": [
            "[2, 4]\n"
          ]
        }
      ]
    },
    {
      "cell_type": "markdown",
      "source": [
        "**9. Explain the purpose and usage of the `map()` function in Python.**\n",
        "\n",
        "**Ans:**\n",
        "\n",
        "The map() function in Python is used to apply a given function to all items in an iterable (such as a list) and return a map object, which can then be converted to a list, tuple, etc. This is particularly useful when you need to perform the same operation on each item in a collection.\n",
        "\n",
        "**Purpose:**\n",
        "\n",
        "a) The primary purpose of map() is to simplify the process of applying a function to every item in an iterable, making the code more concise and readable.\n",
        "\n",
        "b) Transformation: map() is used to transform each item in an iterable based on a given function.\n",
        "\n",
        "c) Multiple Iterables: Can work with multiple iterables if the function takes multiple arguments.\n",
        "\n",
        "d) Efficiency: Makes the code more concise and readable, especially when performing simple operations on each item.\n",
        "\n",
        "Example:"
      ],
      "metadata": {
        "id": "tsMeGGjVuoWn"
      }
    },
    {
      "cell_type": "code",
      "source": [
        "numbers1 = [1, 2, 3]\n",
        "numbers2 = [4, 5, 6]\n",
        "sums = list(map(lambda x, y: x + y, numbers1, numbers2))\n",
        "print(sums)  # Output: [5, 7, 9]"
      ],
      "metadata": {
        "colab": {
          "base_uri": "https://localhost:8080/"
        },
        "id": "0WKyx8A4wCsI",
        "outputId": "fd34d14a-ce79-4d86-be72-df2418364f31"
      },
      "execution_count": null,
      "outputs": [
        {
          "output_type": "stream",
          "name": "stdout",
          "text": [
            "[5, 7, 9]\n"
          ]
        }
      ]
    },
    {
      "cell_type": "markdown",
      "source": [
        "**10. What is the difference between `map()`, `reduce()`, and `filter()` functions in Python?**\n",
        "\n",
        "**Ans: **\n",
        "\n",
        "**Differences:**\n",
        "\n",
        "**Operation:**\n",
        "\n",
        "map(): Transforms each item in the iterable.\n",
        "\n",
        "reduce(): Reduces the iterable to a single cumulative value.\n",
        "\n",
        "filter(): Filters out items based on a condition.\n",
        "\n",
        "**Return Type:**\n",
        "\n",
        "map(): Returns a map object (an iterator) that can be converted to a list, tuple, etc.\n",
        "\n",
        "reduce(): Returns a single value.\n",
        "\n",
        "filter(): Returns a filter object (an iterator) that can be converted to a list, tuple, etc.\n",
        "\n",
        "**Function Requirements:**\n",
        "\n",
        "map(): Function should take one argument (or as many iterables as provided).\n",
        "\n",
        "reduce(): Function should take two arguments.\n",
        "\n",
        "filter(): Function should take one argument and return a boolean.\n",
        "\n",
        "Example:"
      ],
      "metadata": {
        "id": "j0jqb_KQwICg"
      }
    },
    {
      "cell_type": "code",
      "source": [
        "# Example list\n",
        "numbers = [1, 2, 3, 4, 5]\n",
        "\n",
        "# map() example: square each number\n",
        "squared_numbers = map(lambda x: x * x, numbers)\n",
        "print(list(squared_numbers))  # Output: [1, 4, 9, 16, 25]\n",
        "\n",
        "# reduce() example: calculate the product of all numbers\n",
        "from functools import reduce\n",
        "product = reduce(lambda x, y: x * y, numbers)\n",
        "print(product)  # Output: 120\n",
        "\n",
        "# filter() example: filter out even numbers\n",
        "even_numbers = filter(lambda x: x % 2 == 0, numbers)\n",
        "print(list(even_numbers))  # Output: [2, 4]"
      ],
      "metadata": {
        "colab": {
          "base_uri": "https://localhost:8080/"
        },
        "id": "MC8nC6VFxPX7",
        "outputId": "a429a707-c0f7-4e37-8f97-037d8d887c52"
      },
      "execution_count": null,
      "outputs": [
        {
          "output_type": "stream",
          "name": "stdout",
          "text": [
            "[1, 4, 9, 16, 25]\n",
            "120\n",
            "[2, 4]\n"
          ]
        }
      ]
    },
    {
      "cell_type": "markdown",
      "source": [
        "11. Using pen & Paper write the internal mechanism for sum operation using  reduce function on this given\n",
        "list:[47,11,42,13]; **bold text**\n",
        "\n",
        "**Ans:**\n",
        "\n",
        "![WhatsApp Image 2025-02-11 at 7.36.20 PM.jpeg](data:image/jpeg;base64,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)"
      ],
      "metadata": {
        "id": "XIZL8sBfVu_4"
      }
    },
    {
      "cell_type": "markdown",
      "source": [
        "**Practical Questions:**\n",
        "\n",
        "1. Write a Python function that takes a list of numbers as input and returns the sum of all even numbers in\n",
        "the list. **bold text**\n",
        "\n",
        "Ans:\n"
      ],
      "metadata": {
        "id": "OYGafFIZWXT7"
      }
    },
    {
      "cell_type": "code",
      "source": [
        "def sum_of_even_numbers(numbers):\n",
        "    even_sum = 0\n",
        "    for num in numbers:\n",
        "        if num % 2 == 0:\n",
        "            even_sum += num\n",
        "    return even_sum"
      ],
      "metadata": {
        "id": "sfIKA_63XOAK"
      },
      "execution_count": null,
      "outputs": []
    },
    {
      "cell_type": "code",
      "source": [
        "numbers = [1,4,5,9,6]\n",
        "result = sum_of_even_numbers(numbers)\n",
        "print(result)"
      ],
      "metadata": {
        "colab": {
          "base_uri": "https://localhost:8080/"
        },
        "id": "eHOK0U0PYWwO",
        "outputId": "3c050510-12cc-4d9e-d4f8-246d61054aa0"
      },
      "execution_count": null,
      "outputs": [
        {
          "output_type": "stream",
          "name": "stdout",
          "text": [
            "10\n"
          ]
        }
      ]
    },
    {
      "cell_type": "markdown",
      "source": [
        "**2. Create a Python function that accepts a string and returns the reverse of that string.**\n",
        "\n",
        "Ans:\n",
        "\n"
      ],
      "metadata": {
        "id": "UCnh3MWpZEbT"
      }
    },
    {
      "cell_type": "code",
      "source": [
        "def reverse_string(s):\n",
        "    return s[::-1]\n",
        "\n",
        "input_string = \"Hello, World\"\n",
        "reversed_string = reverse_string(input_string)\n",
        "print(reversed_string)"
      ],
      "metadata": {
        "colab": {
          "base_uri": "https://localhost:8080/"
        },
        "id": "1REAQNcPjtfW",
        "outputId": "7fec9a55-7ace-4e6f-86e1-0e95962ca501"
      },
      "execution_count": null,
      "outputs": [
        {
          "output_type": "stream",
          "name": "stdout",
          "text": [
            "dlroW ,olleH\n"
          ]
        }
      ]
    },
    {
      "cell_type": "markdown",
      "source": [
        "3. Implement a Python function that takes a list of integers and returns a new list containing the squares of\n",
        "each number. **bold text**\n",
        "\n",
        "**Ans:**\n"
      ],
      "metadata": {
        "id": "fNv6YVZnknjQ"
      }
    },
    {
      "cell_type": "code",
      "source": [
        "l=[2,3,4]\n",
        "def square(x):\n",
        "  return x**2\n",
        "list(map(square,l))"
      ],
      "metadata": {
        "colab": {
          "base_uri": "https://localhost:8080/"
        },
        "id": "E3_BT2twlj_H",
        "outputId": "b7108bee-7dbf-434f-fe31-4ccc2fa15c24"
      },
      "execution_count": null,
      "outputs": [
        {
          "output_type": "execute_result",
          "data": {
            "text/plain": [
              "[4, 9, 16]"
            ]
          },
          "metadata": {},
          "execution_count": 8
        }
      ]
    },
    {
      "cell_type": "markdown",
      "source": [
        "**4. Write a Python function that checks if a given number is prime or not from 1 to 200.**\n",
        "\n",
        "Ans."
      ],
      "metadata": {
        "id": "DwbbAOiymAvr"
      }
    },
    {
      "cell_type": "code",
      "source": [
        "is_prime = lambda x: x > 1 and all(x % i != 0 for i in range(2, int(x**0.5) + 1))\n",
        "print(is_prime(20))\n",
        "is_prime(5)"
      ],
      "metadata": {
        "id": "skOgPEKunPjS",
        "outputId": "306ef41c-a368-4c3a-ab45-24b0b481d8dc",
        "colab": {
          "base_uri": "https://localhost:8080/"
        }
      },
      "execution_count": null,
      "outputs": [
        {
          "output_type": "stream",
          "name": "stdout",
          "text": [
            "False\n"
          ]
        },
        {
          "output_type": "execute_result",
          "data": {
            "text/plain": [
              "True"
            ]
          },
          "metadata": {},
          "execution_count": 11
        }
      ]
    },
    {
      "cell_type": "markdown",
      "source": [
        "5. Create an iterator class in Python that generates the Fibonacci sequence up to a specified number of\n",
        "terms **bold text**\n",
        "\n",
        "Ans:\n"
      ],
      "metadata": {
        "id": "ChCMUL5Wnhmj"
      }
    },
    {
      "cell_type": "code",
      "source": [
        "class FibonacciIterator:\n",
        "    def __init__(self, num_terms):\n",
        "        self.num_terms = num_terms\n",
        "        self.count = 0\n",
        "        self.a, self.b = 0, 1\n",
        "\n",
        "    def __iter__(self):\n",
        "        return self\n",
        "\n",
        "    def __next__(self):\n",
        "        if self.count >= self.num_terms:\n",
        "            raise StopIteration\n",
        "        self.count += 1\n",
        "        if self.count == 1:\n",
        "            return self.a\n",
        "        elif self.count == 2:\n",
        "            return self.b\n",
        "        else:\n",
        "            self.a, self.b = self.b, self.a + self.b\n",
        "            return self.b\n",
        "\n",
        "\n",
        "num_terms = 10\n",
        "fib_iterator = FibonacciIterator(num_terms)\n",
        "for term in fib_iterator:\n",
        "    print(term)"
      ],
      "metadata": {
        "colab": {
          "base_uri": "https://localhost:8080/"
        },
        "id": "slbogfPCpgTK",
        "outputId": "c50fb32d-8121-4738-b2d8-14d4bed957e0"
      },
      "execution_count": 12,
      "outputs": [
        {
          "output_type": "stream",
          "name": "stdout",
          "text": [
            "0\n",
            "1\n",
            "1\n",
            "2\n",
            "3\n",
            "5\n",
            "8\n",
            "13\n",
            "21\n",
            "34\n"
          ]
        }
      ]
    },
    {
      "cell_type": "markdown",
      "source": [
        "**6. Write a generator function in Python that yields the powers of 2 up to a given exponent.**"
      ],
      "metadata": {
        "id": "5DvzAS-2prLy"
      }
    },
    {
      "cell_type": "code",
      "source": [
        "def powers_of_two(max_exponent):\n",
        "    exponent = 0\n",
        "    while exponent <= max_exponent:\n",
        "        yield 2 ** exponent\n",
        "        exponent += 1\n",
        "\n",
        "max_exponent = 10\n",
        "for value in powers_of_two(max_exponent):\n",
        "    print(value)"
      ],
      "metadata": {
        "colab": {
          "base_uri": "https://localhost:8080/"
        },
        "id": "fmA_n_Okp74j",
        "outputId": "a3a55d84-21bc-4721-9ba1-61981a0b7c06"
      },
      "execution_count": 13,
      "outputs": [
        {
          "output_type": "stream",
          "name": "stdout",
          "text": [
            "1\n",
            "2\n",
            "4\n",
            "8\n",
            "16\n",
            "32\n",
            "64\n",
            "128\n",
            "256\n",
            "512\n",
            "1024\n"
          ]
        }
      ]
    },
    {
      "cell_type": "markdown",
      "source": [
        "**7. Implement a generator function that reads a file line by line and yields each line as a string.**\n",
        "\n",
        "Ans."
      ],
      "metadata": {
        "id": "U8mbGnD2qJIK"
      }
    },
    {
      "cell_type": "code",
      "source": [
        "def read_file_line_by_line(file_path):\n",
        "    \"\"\"\n",
        "    Generator function to read a file line by line and yield each line as a string.\n",
        "\n",
        "    Args:\n",
        "        file_path (str): Path to the file to be read.\n",
        "\n",
        "    Yields:\n",
        "        str: Each line in the file as a string.\n",
        "    \"\"\"\n",
        "    try:\n",
        "        with open(file_path, 'r') as file:\n",
        "            for line in file:\n",
        "                yield line.strip()  # Remove leading/trailing whitespaces\n",
        "    except FileNotFoundError:\n",
        "        print(f\"File '{file_path}' not found.\")\n",
        "        return\n",
        "\n",
        "\n",
        "# Example usage:\n",
        "if __name__ == \"__main__\":\n",
        "    file_path = \"example.txt\"\n",
        "    for line in read_file_line_by_line(file_path):\n",
        "        print(line)"
      ],
      "metadata": {
        "colab": {
          "base_uri": "https://localhost:8080/"
        },
        "id": "FKYjs_hDqNfI",
        "outputId": "b2645b06-b5d6-49e3-8aa1-fb3e58945360"
      },
      "execution_count": 16,
      "outputs": [
        {
          "output_type": "stream",
          "name": "stdout",
          "text": [
            "File 'example.txt' not found.\n"
          ]
        }
      ]
    },
    {
      "cell_type": "markdown",
      "source": [
        "**8. Use a lambda function in Python to sort a list of tuples based on the second element of each tuple.**\n",
        "\n",
        "Ans:"
      ],
      "metadata": {
        "id": "j81DwkrArERJ"
      }
    },
    {
      "cell_type": "code",
      "source": [
        "# Sample list of tuples\n",
        "tuples_list = [(1, 'banana'), (2, 'apple'), (3, 'cherry'), (4, 'date')]\n",
        "\n",
        "# Sorting the list of tuples based on the second element of each tuple\n",
        "sorted_list = sorted(tuples_list, key=lambda x: x[1])\n",
        "\n",
        "# Printing the sorted list\n",
        "print(sorted_list)"
      ],
      "metadata": {
        "colab": {
          "base_uri": "https://localhost:8080/"
        },
        "id": "iNVJ7EjBrPH3",
        "outputId": "3011caeb-6864-40d7-a774-f2b516b6912f"
      },
      "execution_count": 17,
      "outputs": [
        {
          "output_type": "stream",
          "name": "stdout",
          "text": [
            "[(2, 'apple'), (1, 'banana'), (3, 'cherry'), (4, 'date')]\n"
          ]
        }
      ]
    },
    {
      "cell_type": "markdown",
      "source": [
        "**9. Write a Python program that uses `map()` to convert a list of temperatures from Celsius to Fahrenheit.**\n",
        "\n",
        "Ans:"
      ],
      "metadata": {
        "id": "KZKTmRn0rjuW"
      }
    },
    {
      "cell_type": "code",
      "source": [
        "\n",
        "def celsius_to_fahrenheit(celsius):\n",
        "    return (celsius * 9/5) + 32\n",
        "\n",
        "\n",
        "celsius_temps = [0, 20, 37, 100]\n",
        "\n",
        "# Using map() to convert the list of Celsius temperatures to Fahrenheit\n",
        "fahrenheit_temps = list(map(celsius_to_fahrenheit, celsius_temps))\n",
        "\n",
        "\n",
        "print(fahrenheit_temps)"
      ],
      "metadata": {
        "colab": {
          "base_uri": "https://localhost:8080/"
        },
        "id": "PEGEyAyCrlzj",
        "outputId": "0ceec283-9d6a-4197-d6b4-1bcda6d11040"
      },
      "execution_count": 19,
      "outputs": [
        {
          "output_type": "stream",
          "name": "stdout",
          "text": [
            "[32.0, 68.0, 98.6, 212.0]\n"
          ]
        }
      ]
    },
    {
      "cell_type": "markdown",
      "source": [
        "**10. Create a Python program that uses `filter()` to remove all the vowels from a given string**\n",
        "\n",
        "Ans:\n"
      ],
      "metadata": {
        "id": "U0Z4XOLMr9FQ"
      }
    },
    {
      "cell_type": "code",
      "source": [
        "def is_not_vowel(char):\n",
        "    vowels = 'aeiouAEIOU'\n",
        "    return char not in vowels\n",
        "\n",
        "\n",
        "input_string = \"Hello, World!\"\n",
        "\n",
        "# Using filter() to remove vowels from the string\n",
        "filtered_string = ''.join(filter(is_not_vowel, input_string))\n",
        "\n",
        "\n",
        "print(filtered_string)"
      ],
      "metadata": {
        "colab": {
          "base_uri": "https://localhost:8080/"
        },
        "id": "Sg9oRHsKsIyn",
        "outputId": "f902a2ea-9f81-4451-e1e7-a6657b53a0dd"
      },
      "execution_count": 21,
      "outputs": [
        {
          "output_type": "stream",
          "name": "stdout",
          "text": [
            "Hll, Wrld!\n"
          ]
        }
      ]
    },
    {
      "cell_type": "markdown",
      "source": [
        "11. Imagine an accounting routine used in a book shop. It works on a list with sublists, which look like this:\n",
        "\n",
        "\n",
        "\n",
        "Write a Python program, which returns a list with 2-tuples. Each tuple consists of the order number and the\n",
        "product of the price per item and the quantity. The product should be increased by 10,- € if the value of the\n",
        "order is smaller than 100,00 €.\n",
        "\n",
        "Write a Python program using lambda and map."
      ],
      "metadata": {
        "id": "h40zxC07zpms"
      }
    },
    {
      "cell_type": "code",
      "source": [
        "# List with sublists containing order information\n",
        "orders = [\n",
        "    [34587, \"Learning Python, Mark Lutz\", 4, 40.95],\n",
        "    [98762, \"Programming Python, Mark Lutz\", 5, 56.80],\n",
        "    [77226, \"Head First Python, Paul Barry\", 3, 32.95],\n",
        "    [88112, \"Einführung in Python3, Bernd Klein\", 3, 24.99]\n",
        "]\n",
        "\n",
        "# Function to calculate total value of an order\n",
        "calculate_order_value = lambda order: (order[0], order[2] * order[3] if order[2] * order[3] >= 100 else order[2] * order[3] + 10)\n",
        "\n",
        "# Using map to apply the function to all orders\n",
        "order_values = list(map(calculate_order_value, orders))\n",
        "\n",
        "print(order_values)"
      ],
      "metadata": {
        "colab": {
          "base_uri": "https://localhost:8080/"
        },
        "id": "c3OgDtAaz_k2",
        "outputId": "ff71764d-2c6e-464b-b0a2-cc227f1891ba"
      },
      "execution_count": 22,
      "outputs": [
        {
          "output_type": "stream",
          "name": "stdout",
          "text": [
            "[(34587, 163.8), (98762, 284.0), (77226, 108.85000000000001), (88112, 84.97)]\n"
          ]
        }
      ]
    }
  ]
}